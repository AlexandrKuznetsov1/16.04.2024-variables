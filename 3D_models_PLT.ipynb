{
  "cells": [
    {
      "cell_type": "code",
      "execution_count": null,
      "metadata": {},
      "outputs": [],
      "source": [
        "# -*- coding: utf-8 -*-\n",
        "\n",
        "import matplotlib.pyplot as plt\n",
        "import numpy as np\n",
        "import time\n",
        "\n",
        "\n",
        "def x(t):\n",
        "    return np.cos(t)\n",
        "\n",
        "\n",
        "def y(t):\n",
        "    return np.sin(t)\n",
        "\n",
        "\n",
        "def z(t):\n",
        "    return t\n",
        "\n",
        "\n",
        "t = np.linspace(0, 6*np.pi, 100)\n",
        "x_vals = x(t)\n",
        "y_vals = y(t)\n",
        "z_vals = z(t)\n",
        "start_time = time.time()\n",
        "fig = plt.figure()\n",
        "ax = fig.add_subplot(\n",
        "    111,\n",
        "    projection='3d',\n",
        ")\n",
        "ax.plot(\n",
        "    x_vals,\n",
        "    y_vals,\n",
        "    z_vals,\n",
        "    color='red',\n",
        ")\n",
        "ax.set_xlabel('X', color='green',)\n",
        "ax.set_ylabel('Y', color='green',)\n",
        "ax.set_zlabel('Z', color='green',)\n",
        "ax.set_title('3D-модель формулы спирали PLT', color='blue')\n",
        "\n",
        "stop_time = time.time()\n",
        "result_time = round(stop_time - start_time, 2)\n",
        "print(f'Время визуализации 3D модели PLT = {result_time} секунд')\n",
        "plt.show()\n",
        "\n"
      ]
    }
  ],
  "metadata": {
    "anaconda-cloud": {},
    "kernelspec": {
      "display_name": "Python 3",
      "language": "python",
      "name": "python3"
    },
    "language_info": {
      "codemirror_mode": {
        "name": "ipython",
        "version": 3
      },
      "file_extension": ".py",
      "mimetype": "text/x-python",
      "name": "python",
      "nbconvert_exporter": "python",
      "pygments_lexer": "ipython3",
      "version": "3.12.2"
    }
  },
  "nbformat": 4,
  "nbformat_minor": 4
}
